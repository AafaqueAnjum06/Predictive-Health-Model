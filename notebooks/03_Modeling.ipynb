{
 "cells": [
  {
   "cell_type": "code",
   "execution_count": 101,
   "id": "597a041e",
   "metadata": {},
   "outputs": [],
   "source": [
    "import pandas as pd\n",
    "from sklearn.model_selection import train_test_split\n",
    "from sklearn.preprocessing import StandardScaler\n",
    "from sklearn.metrics import accuracy_score, f1_score, precision_score, recall_score, roc_auc_score\n",
    "from sklearn.linear_model import LogisticRegression\n",
    "from sklearn.naive_bayes import GaussianNB\n",
    "from sklearn.tree import DecisionTreeClassifier\n",
    "from sklearn.svm import SVC\n",
    "from sklearn.neighbors import KNeighborsClassifier\n",
    "from sklearn.ensemble import RandomForestClassifier\n",
    "from sklearn.model_selection import GridSearchCV\n",
    "import joblib"
   ]
  },
  {
   "cell_type": "code",
   "execution_count": 102,
   "id": "0ea6f448",
   "metadata": {},
   "outputs": [],
   "source": [
    "data = pd.read_csv('../data/processed/heart.csv')"
   ]
  },
  {
   "cell_type": "code",
   "execution_count": 103,
   "id": "568143b0",
   "metadata": {},
   "outputs": [],
   "source": [
    "X = data.drop('HeartDisease', axis=1)\n",
    "y = data['HeartDisease']"
   ]
  },
  {
   "cell_type": "code",
   "execution_count": 104,
   "id": "bf0e0e06",
   "metadata": {},
   "outputs": [],
   "source": [
    "X_train, X_test, y_train, y_test = train_test_split(X, y, stratify=y, test_size=0.2)"
   ]
  },
  {
   "cell_type": "code",
   "execution_count": 105,
   "id": "083a27ab",
   "metadata": {},
   "outputs": [],
   "source": [
    "scaler = StandardScaler()\n",
    "X_train_scaled = scaler.fit_transform(X_train)\n",
    "X_test_scaled = scaler.transform(X_test)"
   ]
  },
  {
   "cell_type": "code",
   "execution_count": 106,
   "id": "17adc5a8",
   "metadata": {},
   "outputs": [],
   "source": [
    "models = {\n",
    "    \"Logistic Regression\": (\n",
    "        LogisticRegression(max_iter=1000),\n",
    "        {\n",
    "            \"C\": [0.01, 0.1, 1, 10],\n",
    "            \"solver\": [\"liblinear\", \"lbfgs\"]\n",
    "        }\n",
    "    ),\n",
    "    \"KNN\": (\n",
    "        KNeighborsClassifier(),\n",
    "        {\n",
    "            \"n_neighbors\": [3, 5, 7, 9, 11],\n",
    "            \"weights\": [\"uniform\", \"distance\"],\n",
    "            \"p\": [1, 2]   # 1=Manhattan, 2=Euclidean\n",
    "        }\n",
    "    ),\n",
    "    \"Naive Bayes\": (\n",
    "        GaussianNB(),\n",
    "        {\n",
    "            \"var_smoothing\": [1e-9, 1e-8, 1e-7, 1e-6]\n",
    "        }\n",
    "    ),\n",
    "    \"Decision Tree\": (\n",
    "        DecisionTreeClassifier(),\n",
    "        {\n",
    "            \"max_depth\": [None, 5, 10, 20],\n",
    "            \"criterion\": [\"gini\", \"entropy\"],\n",
    "            \"min_samples_split\": [2, 5, 10]\n",
    "        }\n",
    "    ),\n",
    "    \"SVM\": (\n",
    "        SVC(probability=True),\n",
    "        {\n",
    "            \"C\": [0.1, 1, 10],\n",
    "            \"kernel\": [\"linear\", \"rbf\", \"poly\"],\n",
    "            \"gamma\": [\"scale\", \"auto\"]\n",
    "        }\n",
    "    ),\n",
    "    \"Random Forest\": (\n",
    "        RandomForestClassifier(),\n",
    "        {\n",
    "            \"n_estimators\": [50, 100, 200],\n",
    "            \"max_depth\": [None, 5, 10, 20],\n",
    "            \"min_samples_split\": [2, 5, 10]\n",
    "        }\n",
    "    )\n",
    "}"
   ]
  },
  {
   "cell_type": "code",
   "execution_count": 107,
   "id": "b5ee92d3",
   "metadata": {},
   "outputs": [
    {
     "name": "stdout",
     "output_type": "stream",
     "text": [
      "\n",
      " Running GridSearchCV for Logistic Regression...\n",
      "\n",
      " Running GridSearchCV for KNN...\n",
      "\n",
      " Running GridSearchCV for Naive Bayes...\n",
      "\n",
      " Running GridSearchCV for Decision Tree...\n",
      "\n",
      " Running GridSearchCV for SVM...\n",
      "\n",
      " Running GridSearchCV for Random Forest...\n"
     ]
    }
   ],
   "source": [
    "results = []\n",
    "\n",
    "for name, (model, params) in models.items():\n",
    "    print(f\"\\n Running GridSearchCV for {name}...\")\n",
    "    \n",
    "    grid = GridSearchCV(\n",
    "        estimator=model,\n",
    "        param_grid=params,\n",
    "        scoring=\"accuracy\",\n",
    "        cv=5,\n",
    "        n_jobs=-1,\n",
    "        verbose=0\n",
    "    )\n",
    "    \n",
    "    grid.fit(X_train_scaled, y_train)\n",
    "    \n",
    "    best_model = grid.best_estimator_\n",
    "    \n",
    "    y_pred = best_model.predict(X_test_scaled)\n",
    "    y_proba = best_model.predict_proba(X_test_scaled)[:, 1] if hasattr(best_model, \"predict_proba\") else None\n",
    "    \n",
    "    acc = accuracy_score(y_test, y_pred)\n",
    "    f1 = f1_score(y_test, y_pred)\n",
    "    precision = precision_score(y_test, y_pred)\n",
    "    recall = recall_score(y_test, y_pred)\n",
    "    roc_auc = roc_auc_score(y_test, y_proba) if y_proba is not None else None\n",
    "    \n",
    "    results.append({\n",
    "        \"Model\": name,\n",
    "        \"Best Params\": grid.best_params_,\n",
    "        \"CV Best Score\": round(grid.best_score_, 4),\n",
    "        \"Test Accuracy\": round(acc, 4),\n",
    "        \"Precision\": round(precision, 4),\n",
    "        \"Recall\": round(recall, 4),\n",
    "        \"F1 Score\": round(f1, 4),\n",
    "        \"ROC-AUC\": round(roc_auc, 4) if roc_auc is not None else \"N/A\"\n",
    "    })"
   ]
  },
  {
   "cell_type": "code",
   "execution_count": 108,
   "id": "546b6ddd",
   "metadata": {},
   "outputs": [
    {
     "name": "stdout",
     "output_type": "stream",
     "text": [
      "\n",
      " Final Results with Medical Metrics:\n",
      "                 Model                                        Best Params  \\\n",
      "0  Logistic Regression                    {'C': 1, 'solver': 'liblinear'}   \n",
      "1                  KNN  {'n_neighbors': 7, 'p': 2, 'weights': 'distance'}   \n",
      "2          Naive Bayes                           {'var_smoothing': 1e-09}   \n",
      "3        Decision Tree  {'criterion': 'entropy', 'max_depth': 5, 'min_...   \n",
      "4                  SVM        {'C': 1, 'gamma': 'scale', 'kernel': 'rbf'}   \n",
      "5        Random Forest  {'max_depth': None, 'min_samples_split': 5, 'n...   \n",
      "\n",
      "   CV Best Score  Test Accuracy  Precision  Recall  F1 Score  ROC-AUC  \n",
      "0         0.8746         0.8370     0.8529  0.8529    0.8529   0.9207  \n",
      "1         0.8746         0.8750     0.8835  0.8922    0.8878   0.9268  \n",
      "2         0.8692         0.8587     0.8725  0.8725    0.8725   0.9317  \n",
      "3         0.8392         0.8641     0.8667  0.8922    0.8792   0.9167  \n",
      "4         0.8732         0.8696     0.8679  0.9020    0.8846   0.9143  \n",
      "5         0.8787         0.8478     0.8491  0.8824    0.8654   0.9264  \n"
     ]
    }
   ],
   "source": [
    "results_df = pd.DataFrame(results)\n",
    "print(\"\\n Final Results with Medical Metrics:\")\n",
    "print(results_df)"
   ]
  },
  {
   "cell_type": "code",
   "execution_count": 109,
   "id": "62b74a85",
   "metadata": {},
   "outputs": [
    {
     "name": "stdout",
     "output_type": "stream",
     "text": [
      "\n",
      " Best Model (Highest Recall):\n",
      "Model                                                    SVM\n",
      "Best Params      {'C': 1, 'gamma': 'scale', 'kernel': 'rbf'}\n",
      "CV Best Score                                         0.8732\n",
      "Test Accuracy                                         0.8696\n",
      "Precision                                             0.8679\n",
      "Recall                                                 0.902\n",
      "F1 Score                                              0.8846\n",
      "ROC-AUC                                               0.9143\n",
      "Name: 4, dtype: object\n"
     ]
    }
   ],
   "source": [
    "best_model_row = results_df.loc[results_df[\"Recall\"].idxmax()]\n",
    "print(\"\\n Best Model (Highest Recall):\")\n",
    "print(best_model_row)"
   ]
  },
  {
   "cell_type": "code",
   "execution_count": 110,
   "id": "211c9672",
   "metadata": {},
   "outputs": [
    {
     "name": "stdout",
     "output_type": "stream",
     "text": [
      "Final Test Accuracy: 0.8478260869565217\n",
      "Final Test Recall: 0.9019607843137255\n",
      "Final Test ROC-AUC: 0.9228240076518412\n"
     ]
    }
   ],
   "source": [
    "best_params = {'max_depth': 5, 'min_samples_split': 2, 'n_estimators': 50}\n",
    "\n",
    "from sklearn.ensemble import RandomForestClassifier\n",
    "\n",
    "final_model = RandomForestClassifier(**best_params, random_state=42)\n",
    "final_model.fit(X_train_scaled, y_train)\n",
    "\n",
    "y_pred = final_model.predict(X_test_scaled)\n",
    "y_proba = final_model.predict_proba(X_test_scaled)[:,1]\n",
    "\n",
    "print(\"Final Test Accuracy:\", accuracy_score(y_test, y_pred))\n",
    "print(\"Final Test Recall:\", recall_score(y_test, y_pred))\n",
    "print(\"Final Test ROC-AUC:\", roc_auc_score(y_test, y_proba))"
   ]
  },
  {
   "cell_type": "code",
   "execution_count": 111,
   "id": "f84a36ea",
   "metadata": {},
   "outputs": [
    {
     "data": {
      "text/plain": [
       "['../data/processed/heart_model.pkl']"
      ]
     },
     "execution_count": 111,
     "metadata": {},
     "output_type": "execute_result"
    }
   ],
   "source": [
    "joblib.dump(model, \"../data/processed/heart_model.pkl\")"
   ]
  }
 ],
 "metadata": {
  "kernelspec": {
   "display_name": "Python 3",
   "language": "python",
   "name": "python3"
  },
  "language_info": {
   "codemirror_mode": {
    "name": "ipython",
    "version": 3
   },
   "file_extension": ".py",
   "mimetype": "text/x-python",
   "name": "python",
   "nbconvert_exporter": "python",
   "pygments_lexer": "ipython3",
   "version": "3.13.6"
  }
 },
 "nbformat": 4,
 "nbformat_minor": 5
}
